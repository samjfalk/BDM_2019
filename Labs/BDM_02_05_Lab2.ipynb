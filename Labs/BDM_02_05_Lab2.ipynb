{
 "cells": [
  {
   "cell_type": "markdown",
   "metadata": {},
   "source": [
    "# Lab 2\n",
    "\n",
    "This lab is for practicing Python’s *generators* and the design of *streaming* algorithms in general. We’re going to use two Citibike's data sets: **citibike.csv** and **citibike_docking_events.csv**. Both are available on NYU Classes *Datasets* section."
   ]
  },
  {
   "cell_type": "code",
   "execution_count": 6,
   "metadata": {},
   "outputs": [
    {
     "name": "stderr",
     "output_type": "stream",
     "text": [
      "/usr/local/Anaconda3-5.0.0-Linux-x86_64/envs/PUI2016_Python3/lib/python3.5/site-packages/IPython/html.py:14: ShimWarning: The `IPython.html` package has been deprecated. You should import from `notebook` instead. `IPython.html.widgets` has moved to `ipywidgets`.\n",
      "  \"`IPython.html.widgets` has moved to `ipywidgets`.\", ShimWarning)\n"
     ]
    }
   ],
   "source": [
    "import csv\n",
    "import datetime\n",
    "import dateutil\n",
    "%matplotlib inline\n",
    "import matplotlib.pyplot as plt\n",
    "import seaborn as sns\n",
    "sns.set_style(\"whitegrid\")\n",
    "sns.set_color_codes(\"muted\")\n",
    "import sys\n",
    "import json\n",
    "import urllib.request"
   ]
  },
  {
   "cell_type": "markdown",
   "metadata": {},
   "source": [
    "## Task 1\n",
    "\n",
    "Plotting the number of trips taken by hour of the day in '''citibike.csv'''. In this task, we would write a generator to convert each line of an input citibike CSV into a stream of “hour of the day” values."
   ]
  },
  {
   "cell_type": "code",
   "execution_count": 1,
   "metadata": {},
   "outputs": [
    {
     "ename": "FileNotFoundError",
     "evalue": "[Errno 2] No such file or directory: 'citibike.csv'",
     "output_type": "error",
     "traceback": [
      "\u001b[0;31m---------------------------------------------------------------------------\u001b[0m",
      "\u001b[0;31mFileNotFoundError\u001b[0m                         Traceback (most recent call last)",
      "\u001b[0;32m<ipython-input-1-abd92421e6b1>\u001b[0m in \u001b[0;36m<module>\u001b[0;34m()\u001b[0m\n\u001b[0;32m----> 1\u001b[0;31m \u001b[0;32mwith\u001b[0m \u001b[0mopen\u001b[0m\u001b[0;34m(\u001b[0m\u001b[0;34m'citibike.csv'\u001b[0m\u001b[0;34m,\u001b[0m \u001b[0;34m'r'\u001b[0m\u001b[0;34m)\u001b[0m \u001b[0;32mas\u001b[0m \u001b[0mfi\u001b[0m\u001b[0;34m:\u001b[0m\u001b[0;34m\u001b[0m\u001b[0m\n\u001b[0m\u001b[1;32m      2\u001b[0m     \u001b[0mreader\u001b[0m \u001b[0;34m=\u001b[0m \u001b[0mcsv\u001b[0m\u001b[0;34m.\u001b[0m\u001b[0mDictReader\u001b[0m\u001b[0;34m(\u001b[0m\u001b[0mfi\u001b[0m\u001b[0;34m)\u001b[0m\u001b[0;34m\u001b[0m\u001b[0m\n\u001b[1;32m      3\u001b[0m     \u001b[0;32mfor\u001b[0m \u001b[0mrow\u001b[0m \u001b[0;32min\u001b[0m \u001b[0mreader\u001b[0m\u001b[0;34m:\u001b[0m\u001b[0;34m\u001b[0m\u001b[0m\n\u001b[1;32m      4\u001b[0m         \u001b[0mprint\u001b[0m\u001b[0;34m(\u001b[0m\u001b[0mrow\u001b[0m\u001b[0;34m)\u001b[0m\u001b[0;34m\u001b[0m\u001b[0m\n\u001b[1;32m      5\u001b[0m         \u001b[0;32mbreak\u001b[0m\u001b[0;34m\u001b[0m\u001b[0m\n",
      "\u001b[0;31mFileNotFoundError\u001b[0m: [Errno 2] No such file or directory: 'citibike.csv'"
     ]
    }
   ],
   "source": [
    "with open('citibike.csv', 'r') as fi:\n",
    "    reader = csv.DictReader(fi)\n",
    "    for row in reader:\n",
    "        print(row)\n",
    "        break"
   ]
  },
  {
   "cell_type": "code",
   "execution_count": 2,
   "metadata": {},
   "outputs": [],
   "source": [
    "def citibike2hod(filename):\n",
    "    with open(filename, 'r') as fi:\n",
    "        reader = csv.DictReader(fi)\n",
    "        for row in reader:\n",
    "            starttime = dateutil.parser.parse(row['starttime'])\n",
    "            yield(starttime.hour)"
   ]
  },
  {
   "cell_type": "code",
   "execution_count": null,
   "metadata": {},
   "outputs": [],
   "source": [
    "count = {}\n",
    "for hod in citibike2hod('citibike.csv'):\n",
    "    count[hod] = count.get(hod, 0)+1"
   ]
  },
  {
   "cell_type": "code",
   "execution_count": null,
   "metadata": {},
   "outputs": [],
   "source": [
    "ax = sns.barplot(x=list(count.keys), y)"
   ]
  },
  {
   "cell_type": "code",
   "execution_count": null,
   "metadata": {},
   "outputs": [],
   "source": []
  },
  {
   "cell_type": "code",
   "execution_count": 5,
   "metadata": {},
   "outputs": [
    {
     "data": {
      "image/png": "[encoded data removed]",
      "text/plain": [
       "<Figure size 576x432 with 1 Axes>"
      ]
     },
     "metadata": {
      "needs_background": "light"
     },
     "output_type": "display_data"
    }
   ],
   "source": []
  },
  {
   "cell_type": "markdown",
   "metadata": {},
   "source": [
    "## Task 2\n",
    "\n",
    "Our task is to write a generator to extract the first ride of the day from a Citibike data stream. The data stream is sorted based on starting times. The first ride of the day is interpreted as the ride with the earliest starting time of a day.\n",
    "\n",
    "We are given a template with the sample generator **firstRide**. The generator currently takes in **csv.DictReader** generator and output its first element. We need to adjust this generator to output the first ride of the day for the entire stream as specified above. The output of the generator must be in the same format as csv.DictReader. We can think of this generator as a filter only passing certain records through."
   ]
  },
  {
   "cell_type": "code",
   "execution_count": 6,
   "metadata": {},
   "outputs": [
    {
     "name": "stdout",
     "output_type": "stream",
     "text": [
      "1,,801,2015-02-01 00:00:00+00,2015-02-01 00:14:00+00,521,8 Ave & W 31 St,40.75044999,-73.99481051,423,W 54 St & 9 Ave,40.76584941,-73.98690506,17131,Subscriber,1978,2\n",
      "6442,,199,2015-02-02 00:02:00+00,2015-02-02 00:05:00+00,442,W 27 St & 7 Ave,40.746647,-73.993915,489,10 Ave & W 28 St,40.75066386,-74.00176802,20684,Subscriber,1992,1\n",
      "7901,,704,2015-02-03 00:00:00+00,2015-02-03 00:12:00+00,387,Centre St & Chambers St,40.71273266,-74.0046073,2008,Little West St & 1 Pl,40.70569254,-74.01677685,20328,Subscriber,1982,1\n",
      "12655,,146,2015-02-04 00:00:00+00,2015-02-04 00:02:00+00,237,E 11 St & 2 Ave,40.73047309,-73.98672378,438,St Marks Pl & 1 Ave,40.72779126,-73.98564945,15253,Subscriber,1969,1\n",
      "21628,,1034,2015-02-05 00:00:00+00,2015-02-05 00:17:00+00,497,E 17 St & Broadway,40.73704984,-73.99009296,461,E 20 St & 2 Ave,40.73587678,-73.98205027,20290,Subscriber,1971,1\n",
      "30836,,212,2015-02-06 00:01:00+00,2015-02-06 00:05:00+00,491,E 24 St & Park Ave S,40.74096374,-73.98602213,472,E 32 St & Park Ave,40.7457121,-73.98194829,19891,Subscriber,1989,1\n",
      "39412,,424,2015-02-07 00:00:00+00,2015-02-07 00:07:00+00,116,W 17 St & 8 Ave,40.74177603,-74.00149746,489,10 Ave & W 28 St,40.75066386,-74.00176802,19071,Subscriber,1963,1\n"
     ]
    }
   ],
   "source": [
    "### NOTE: We need to change the body of the generator firstRide\n",
    "### in order to output trip record that appeared first in each day\n",
    "### using the same dict format as csv.DictReader.\n",
    "\n",
    "def firstRide(reader):\n",
    "    lastday = None\n",
    "    for rider in reader:\n",
    "            day = datetime.datetime\n",
    "    yield(None)\n",
    "\n",
    "### NOTE: We SHOULD NOT modify the code below. If we\n",
    "### write our firstRide generator above correctly, the\n",
    "### code below will output the correct information\n",
    "\n",
    "with open('citibike.csv', 'r') as fi:\n",
    "    reader = csv.DictReader(fi)\n",
    "    for row in firstRide(reader):\n",
    "        print(','.join(map(row.get, reader.fieldnames)))"
   ]
  },
  {
   "cell_type": "markdown",
   "metadata": {},
   "source": [
    "## Task 3\n",
    "\n",
    "Our task is to **compute the maximum number of active \"citibikers\"** that were using the Citibike service at any point in time. This the same as computing the maximum number of citibikes that were checked out at a particular time. The input data set is **citibike_docking_events.csv**, which logged all docking and undocking events at all Citibike stations. The description of the fields in this file is as follows:\n",
    "\n",
    "|Column name|Description|\n",
    "|--|--|\n",
    "|time |The timestamp of the event. All events are sorted increasingly by their timestamps. |\n",
    "|bikeid |The unique ID of the bike involved in this event. |\n",
    "|station_id |The station ID, where the event happened. |\n",
    "|event |A string of either *\"dock\"* or *\"undock\"* for describing the drop-off or pick-up event, respectively. |\n",
    "\n",
    "For example, let's assume that on *Feb-01-2015*, there was a user that picked a bike at the station ID *521* at midnight and dropped it at the station ID *423* at 14 minutes past midnight. If the bike that this customer used has the ID of *17131*, then we should see two events being logged in this data set as:\n",
    "\n",
    "<pre>\n",
    "...\n",
    "2015-02-01 00:00:00+00,17131,521,undock\n",
    "...\n",
    "2015-02-01 00:14:00+00,17131,423,dock\n",
    "...\n",
    "</pre>\n",
    "\n",
    "We are given the above data set in a streaming fashion (reading in row by row), and must design a streaming algorithm that uses the least possible additional memory to compute the maximum number of active users of the Citibike service. Please modify the code snippet below to complete this task. The code should only output a single number, which is the number of active users. It is allowable to add additional initialization codes outside of the for loop as needed."
   ]
  },
  {
   "cell_type": "code",
   "execution_count": 7,
   "metadata": {},
   "outputs": [
    {
     "name": "stdout",
     "output_type": "stream",
     "text": [
      "250\n",
      "2015-02-05 08:55:00+00\n"
     ]
    }
   ],
   "source": [
    "def csvRows(filename):\n",
    "    with open(filename, 'r') as fi:\n",
    "        reader = csv.DictReader(fi)\n",
    "        for row in reader:\n",
    "            yield(row)\n",
    "\n",
    "ActiveUsers = 0\n",
    "maxActiveUsers = 0\n",
    "for row in csvRows('citibike_docking_events.csv'):\n",
    "    if row['event'] == 'undock':\n",
    "        ActiveUsers += 1\n",
    "    elif row['event'] == 'dock':\n",
    "        ActiveUsers -= 1\n",
    "    maxActiveUsers = max(activeusers)\n",
    "        \n",
    "\n",
    "    activeusers[row[time]] = count.get(hod, 0)+1\n",
    "    \n",
    "print(maxActiveUsers)\n",
    "print(maxTime)"
   ]
  },
  {
   "cell_type": "markdown",
   "metadata": {},
   "source": [
    "## Task 4\n",
    "\n",
    "The objective of this task is identical to Task 3's but we are asked to use the **cibibike.csv** data set instead of the docking events. The main difference (and challenge) is that both pick-up and drop-off event for each trip is now presented as a single record, thus, the drop-off events are not sorted by their timestamps. We are again asked to do this in a streaming fashion that needs to minimize the amount of memory usage. Please modify the code below accordingly, and also with a brief explaination of the solution."
   ]
  },
  {
   "cell_type": "code",
   "execution_count": 8,
   "metadata": {},
   "outputs": [
    {
     "name": "stdout",
     "output_type": "stream",
     "text": [
      "250\n",
      "2015-02-05 08:55:00+00\n"
     ]
    }
   ],
   "source": [
    "def csvRows(filename):\n",
    "    with open(filename, 'r') as fi:\n",
    "        reader = csv.DictReader(fi)\n",
    "        for row in reader:\n",
    "            yield(row)\n",
    "\n",
    "maxActiveUsers = 0\n",
    "notyetreturned = []\n",
    "maxTime = None\n",
    "for row in csvRows('citibike_docking_events.csv'):\n",
    "    starttime = row['starttime']\n",
    "    stoptime = row['stoptime']\n",
    "    notyetreturned = filter(lambda x: x>starttime, notyetreturned)\n",
    "    notyetreturned = notyetreturned + [starttime]\n",
    "    if maxActiveUsers < len(notyetreturned):\n",
    "        #maxActiveUsers=  max(maxActiveusers, len(notyetreturned))\n",
    "        maxActiveUsers, maxtime = len(notyetreturned), starttime\n",
    "    \n",
    "    \n",
    "\n",
    "print(maxActiveUsers)\n",
    "print(maxTime)"
   ]
  },
  {
   "cell_type": "code",
   "execution_count": null,
   "metadata": {},
   "outputs": [],
   "source": [
    "# if __name__=='__main__':\n",
    "#         filename = sys.argv[1]\n",
    "\n",
    "\n",
    "\n",
    "def csvRows(filename):\n",
    "    with open(filename, 'r') as fi:\n",
    "        reader = csv.DictReader(fi)\n",
    "        for row in reader:\n",
    "            yield(row)\n",
    "\n",
    "sales = {}\n",
    "for row in csvRows('sale.csv'):\n",
    "    #needs to be only unique customers \n",
    "    sales['Product ID']['Customer Count'] = row.get('Product ID', 0)+1\n",
    "    sales['Product ID']['Total Revenue'] = sales.get('Product ID', 0)+ \\\n",
    "    sales['Product ID']['Total Revenue']\n"
   ]
  },
  {
   "cell_type": "code",
   "execution_count": 4,
   "metadata": {},
   "outputs": [],
   "source": [
    "def csvRows(filename):\n",
    "    with open(filename, 'r') as fi:\n",
    "        reader = csv.DictReader(fi)\n",
    "        for row in reader:\n",
    "            yield(row)\n"
   ]
  },
  {
   "cell_type": "code",
   "execution_count": 72,
   "metadata": {},
   "outputs": [],
   "source": [
    "sales = {}\n",
    "for row in csvRows('sale.csv'):\n",
    "    product = row.get('Product ID')\n",
    "    current_customer = row.get('Customer ID', 0)\n",
    "    if sales.get(product, -1) == -1:\n",
    "        sales[product] = {}\n",
    "    sales[product]['Total Revenue'] = float(row.get('Item Cost', 0))+ \\\n",
    "        sales[product].get('Total Revenue', 0)\n",
    "    if sales[product].get('Last Customer', -1) != current_customer:\n",
    "        sales[product]['Last Customer'] = current_customer\n",
    "        sales[product]['CustCount'] = sales[product].get('CustCount', 0) + 1\n",
    "#     sales[row.get('Product ID')]['Customer Count'] = \\\n",
    "#     sales[row.get('Product ID')]['Customer Count'].add(sales.get('Customer ID'))\n",
    "\n",
    "f_out = open('out2.csv', 'w')\n",
    "#f_out = open(sys.argv[2], 'w')\n",
    "header = 'Product ID, Customer Count, Total Revenue\\n'\n",
    "f_out.write(header)\n",
    "for k in sales:\n",
    "    line = k + ', '+ str(sales[k].get('Total Revenue')) + ', '+ \\\n",
    "                     str(round(sales[k].get('Total Revenue'), 2)) + '\\n'\n",
    "    f_out.write(line)\n"
   ]
  },
  {
   "cell_type": "code",
   "execution_count": 55,
   "metadata": {},
   "outputs": [
    {
     "data": {
      "text/plain": [
       "{'P02291': {'Customer Count': 16,\n",
       "  'Customers': {'1209690251',\n",
       "   '2760114372',\n",
       "   '3251575310',\n",
       "   '3663438817',\n",
       "   '4165102963',\n",
       "   '4501356649',\n",
       "   '4524061025',\n",
       "   '5541081141',\n",
       "   '5993816857',\n",
       "   '6549151004',\n",
       "   '6918182622',\n",
       "   '7371386587',\n",
       "   '9414192541',\n",
       "   '9567628724',\n",
       "   '9582146098',\n",
       "   '9736259791'},\n",
       "  'Total Revenue': 1181.9700000000007},\n",
       " 'P19498': {'Customer Count': 17,\n",
       "  'Customers': {'2671106101',\n",
       "   '2760114372',\n",
       "   '3251575310',\n",
       "   '3663438817',\n",
       "   '4165102963',\n",
       "   '4501356649',\n",
       "   '4524061025',\n",
       "   '5541081141',\n",
       "   '5993816857',\n",
       "   '6549151004',\n",
       "   '6918182622',\n",
       "   '7371386587',\n",
       "   '9414192541',\n",
       "   '9567628724',\n",
       "   '9582146098',\n",
       "   '9736259791',\n",
       "   '9888781416'},\n",
       "  'Total Revenue': 989.9900000000007},\n",
       " 'P32565': {'Customer Count': 17,\n",
       "  'Customers': {'1209690251',\n",
       "   '2671106101',\n",
       "   '2760114372',\n",
       "   '3251575310',\n",
       "   '3663438817',\n",
       "   '4165102963',\n",
       "   '4501356649',\n",
       "   '4524061025',\n",
       "   '5541081141',\n",
       "   '5993816857',\n",
       "   '6549151004',\n",
       "   '6918182622',\n",
       "   '7371386587',\n",
       "   '9414192541',\n",
       "   '9567628724',\n",
       "   '9582146098',\n",
       "   '9888781416'},\n",
       "  'Total Revenue': 1006.0900000000007},\n",
       " 'P33162': {'Customer Count': 18,\n",
       "  'Customers': {'1209690251',\n",
       "   '2053561346',\n",
       "   '2760114372',\n",
       "   '3251575310',\n",
       "   '3663438817',\n",
       "   '4165102963',\n",
       "   '4501356649',\n",
       "   '4524061025',\n",
       "   '5541081141',\n",
       "   '5993816857',\n",
       "   '6549151004',\n",
       "   '6918182622',\n",
       "   '7371386587',\n",
       "   '9414192541',\n",
       "   '9567628724',\n",
       "   '9582146098',\n",
       "   '9736259791',\n",
       "   '9888781416'},\n",
       "  'Total Revenue': 1210.9200000000008},\n",
       " 'P39328': {'Customer Count': 17,\n",
       "  'Customers': {'1209690251',\n",
       "   '2671106101',\n",
       "   '2760114372',\n",
       "   '3251575310',\n",
       "   '3663438817',\n",
       "   '4165102963',\n",
       "   '4501356649',\n",
       "   '4524061025',\n",
       "   '5541081141',\n",
       "   '5993816857',\n",
       "   '6549151004',\n",
       "   '6918182622',\n",
       "   '7371386587',\n",
       "   '9414192541',\n",
       "   '9567628724',\n",
       "   '9582146098',\n",
       "   '9888781416'},\n",
       "  'Total Revenue': 1129.0100000000007},\n",
       " 'P58225': {'Customer Count': 17,\n",
       "  'Customers': {'2053561346',\n",
       "   '2671106101',\n",
       "   '2760114372',\n",
       "   '3251575310',\n",
       "   '3663438817',\n",
       "   '4165102963',\n",
       "   '4501356649',\n",
       "   '4524061025',\n",
       "   '5541081141',\n",
       "   '5993816857',\n",
       "   '6549151004',\n",
       "   '6918182622',\n",
       "   '7371386587',\n",
       "   '9414192541',\n",
       "   '9567628724',\n",
       "   '9582146098',\n",
       "   '9736259791'},\n",
       "  'Total Revenue': 1349.8200000000008},\n",
       " 'P61235': {'Customer Count': 18,\n",
       "  'Customers': {'1209690251',\n",
       "   '2053561346',\n",
       "   '2671106101',\n",
       "   '2760114372',\n",
       "   '3251575310',\n",
       "   '4165102963',\n",
       "   '4501356649',\n",
       "   '4524061025',\n",
       "   '5541081141',\n",
       "   '5993816857',\n",
       "   '6549151004',\n",
       "   '6918182622',\n",
       "   '7371386587',\n",
       "   '9414192541',\n",
       "   '9567628724',\n",
       "   '9582146098',\n",
       "   '9736259791',\n",
       "   '9888781416'},\n",
       "  'Total Revenue': 959.0200000000007},\n",
       " 'P76615': {'Customer Count': 18,\n",
       "  'Customers': {'1209690251',\n",
       "   '2053561346',\n",
       "   '2671106101',\n",
       "   '2760114372',\n",
       "   '3251575310',\n",
       "   '3663438817',\n",
       "   '4165102963',\n",
       "   '4501356649',\n",
       "   '4524061025',\n",
       "   '5541081141',\n",
       "   '5993816857',\n",
       "   '6549151004',\n",
       "   '6918182622',\n",
       "   '7371386587',\n",
       "   '9414192541',\n",
       "   '9567628724',\n",
       "   '9582146098',\n",
       "   '9888781416'},\n",
       "  'Total Revenue': 1087.9600000000007},\n",
       " 'P82222': {'Customer Count': 17,\n",
       "  'Customers': {'1209690251',\n",
       "   '2671106101',\n",
       "   '2760114372',\n",
       "   '3251575310',\n",
       "   '3663438817',\n",
       "   '4165102963',\n",
       "   '4501356649',\n",
       "   '4524061025',\n",
       "   '5541081141',\n",
       "   '5993816857',\n",
       "   '6549151004',\n",
       "   '6918182622',\n",
       "   '7371386587',\n",
       "   '9414192541',\n",
       "   '9567628724',\n",
       "   '9582146098',\n",
       "   '9888781416'},\n",
       "  'Total Revenue': 950.0500000000006},\n",
       " 'P92449': {'Customer Count': 14,\n",
       "  'Customers': {'2053561346',\n",
       "   '2671106101',\n",
       "   '2760114372',\n",
       "   '3251575310',\n",
       "   '4165102963',\n",
       "   '4501356649',\n",
       "   '4524061025',\n",
       "   '5541081141',\n",
       "   '5993816857',\n",
       "   '6549151004',\n",
       "   '6918182622',\n",
       "   '9414192541',\n",
       "   '9567628724',\n",
       "   '9582146098'},\n",
       "  'Total Revenue': 966.1700000000006}}"
      ]
     },
     "execution_count": 55,
     "metadata": {},
     "output_type": "execute_result"
    }
   ],
   "source": [
    "sales"
   ]
  },
  {
   "cell_type": "code",
   "execution_count": null,
   "metadata": {},
   "outputs": [],
   "source": []
  }
 ],
 "metadata": {
  "kernelspec": {
   "display_name": "PUI2016_Python3",
   "language": "python",
   "name": "pui2016_python3"
  },
  "language_info": {
   "codemirror_mode": {
    "name": "ipython",
    "version": 3
   },
   "file_extension": ".py",
   "mimetype": "text/x-python",
   "name": "python",
   "nbconvert_exporter": "python",
   "pygments_lexer": "ipython3",
   "version": "3.5.4"
  }
 },
 "nbformat": 4,
 "nbformat_minor": 2
}
